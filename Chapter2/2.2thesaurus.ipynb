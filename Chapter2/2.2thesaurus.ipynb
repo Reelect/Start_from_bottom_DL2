{
 "cells": [
  {
   "cell_type": "markdown",
   "source": [
    "## 2.2 thesaurus\n",
    "뜻 : 유의어 사전(동의어, 유의어의 집합)\n",
    "![word_tree](../deep_learning_2_images/fig%202-1.png)\n",
    "![word_tree2](../deep_learning_2_images/fig%202-2.png)\n",
    "단어에 대한 유의어 집합을 형성하고 그에 대한 네트워크까지 짜주면 컴퓨터가 해당 단어를 이해했다고 생각할 수 있다.\n",
    "\n",
    "### 2.2.1 WordNet\n",
    "1985년부터 시작한 유의어 획득 단어 네트워크\n",
    "\n",
    "### 2.2.2 thesaurus의 문제점\n",
    "수많은 대한 동의어나 유의어의 계층을 형성해도, 시대적 맥락을 따라오지 못할 가능성이 크다(새로 추가된 맥락을 넣어주어야 함). 또한 사람들을 직접 동원하여 수작업으로 thesaurus를 만들어야한다. 마지막으로 단어의 미묘한 차이를 표현할 수 없다.\n",
    "\n",
    "## 2.3 통계 기반 기법\n",
    "말뭉치(corpus) : 자연어 처리 연구나 애플리케이션을 염두에 두고 수집된 텍스트 데이터\n",
    "### 2.3.1 말뭉치 전처리하기"
   ],
   "metadata": {
    "collapsed": false,
    "pycharm": {
     "name": "#%% md\n"
    }
   }
  },
  {
   "cell_type": "code",
   "execution_count": 1,
   "outputs": [
    {
     "name": "stdout",
     "output_type": "stream",
     "text": [
      "you say goodbye and i say hello .\n"
     ]
    }
   ],
   "source": [
    "# 텍스트 설정\n",
    "text = 'You say goodbye and I say hello.'\n",
    "# text 변형\n",
    "text = text.lower()\n",
    "text = text.replace('.', ' .')\n",
    "print(text)"
   ],
   "metadata": {
    "collapsed": false,
    "pycharm": {
     "name": "#%%\n"
    }
   }
  },
  {
   "cell_type": "code",
   "execution_count": 2,
   "outputs": [
    {
     "name": "stdout",
     "output_type": "stream",
     "text": [
      "['you', 'say', 'goodbye', 'and', 'i', 'say', 'hello', '.']\n"
     ]
    }
   ],
   "source": [
    "# 단어 쪼개기\n",
    "words = text.split(' ')\n",
    "print(words)"
   ],
   "metadata": {
    "collapsed": false,
    "pycharm": {
     "name": "#%%\n"
    }
   }
  },
  {
   "cell_type": "code",
   "execution_count": 3,
   "outputs": [
    {
     "name": "stdout",
     "output_type": "stream",
     "text": [
      "{0: 'you', 1: 'say', 2: 'goodbye', 3: 'and', 4: 'i', 5: 'hello', 6: '.'}\n",
      "{'you': 0, 'say': 1, 'goodbye': 2, 'and': 3, 'i': 4, 'hello': 5, '.': 6}\n"
     ]
    }
   ],
   "source": [
    "word_to_id = {}\n",
    "id_to_word = {}\n",
    "# 단어 쪼개서 딕션어리 입력\n",
    "for word in words:\n",
    "    if word not in word_to_id:\n",
    "        new_id = len(word_to_id)\n",
    "        word_to_id[word] = new_id\n",
    "        id_to_word[new_id] = word\n",
    "\n",
    "print(id_to_word)\n",
    "print(word_to_id)"
   ],
   "metadata": {
    "collapsed": false,
    "pycharm": {
     "name": "#%%\n"
    }
   }
  },
  {
   "cell_type": "code",
   "execution_count": 4,
   "outputs": [
    {
     "name": "stdout",
     "output_type": "stream",
     "text": [
      "say\n"
     ]
    }
   ],
   "source": [
    "print(id_to_word[1])"
   ],
   "metadata": {
    "collapsed": false,
    "pycharm": {
     "name": "#%%\n"
    }
   }
  },
  {
   "cell_type": "code",
   "execution_count": 5,
   "outputs": [
    {
     "name": "stdout",
     "output_type": "stream",
     "text": [
      "5\n"
     ]
    }
   ],
   "source": [
    "print(word_to_id['hello'])"
   ],
   "metadata": {
    "collapsed": false,
    "pycharm": {
     "name": "#%%\n"
    }
   }
  },
  {
   "cell_type": "code",
   "execution_count": null,
   "outputs": [],
   "source": [],
   "metadata": {
    "collapsed": false,
    "pycharm": {
     "name": "#%%\n"
    }
   }
  }
 ],
 "metadata": {
  "kernelspec": {
   "display_name": "Python 3",
   "language": "python",
   "name": "python3"
  },
  "language_info": {
   "codemirror_mode": {
    "name": "ipython",
    "version": 2
   },
   "file_extension": ".py",
   "mimetype": "text/x-python",
   "name": "python",
   "nbconvert_exporter": "python",
   "pygments_lexer": "ipython2",
   "version": "2.7.6"
  }
 },
 "nbformat": 4,
 "nbformat_minor": 0
}